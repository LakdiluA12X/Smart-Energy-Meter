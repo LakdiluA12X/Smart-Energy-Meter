{
 "cells": [
  {
   "cell_type": "code",
   "execution_count": 1,
   "id": "ba427a29",
   "metadata": {},
   "outputs": [],
   "source": [
    "import numpy as np\n",
    "from datetime import datetime as dt\n",
    "from requests import get"
   ]
  },
  {
   "cell_type": "code",
   "execution_count": 2,
   "id": "766877f7",
   "metadata": {},
   "outputs": [],
   "source": [
    "def date_gen(year, month):\n",
    "    long = [1,3,5,7,8,10,12]\n",
    "    dates = []\n",
    "    \n",
    "    for i in range(1, 32):\n",
    "        dates.append(str(year) + str(month).zfill(2) + str(i).zfill(2))\n",
    "        \n",
    "        if(month == 2 and i >= 28):\n",
    "            break\n",
    "        \n",
    "        if(month not in long and i >= 30):\n",
    "            break\n",
    "        \n",
    "    return dates"
   ]
  },
  {
   "cell_type": "code",
   "execution_count": 13,
   "id": "ab815aa7",
   "metadata": {},
   "outputs": [],
   "source": [
    "users = {\n",
    "    'yasiru' : '150150150',\n",
    "    'wikum'  : '12345678',\n",
    "    'lakdilu': '111111',\n",
    "    'suren'  : '555ad3122',\n",
    "    'poorni' : '123abc222'\n",
    "}"
   ]
  },
  {
   "cell_type": "code",
   "execution_count": 4,
   "id": "459ae18d",
   "metadata": {},
   "outputs": [],
   "source": [
    "def gen_requests(user, dates, consumption, lim = 32):\n",
    "    for i in range(len(consumption)):\n",
    "        rq = 'http://localhost/hp1/s/e.php?i={}&c={}&d={}'.format(users[user], str(consumption[i]), dates[i])\n",
    "        print(rq)\n",
    "        print(get(rq))\n",
    "        \n",
    "        if(i == lim): break"
   ]
  },
  {
   "cell_type": "code",
   "execution_count": 14,
   "id": "e0688d19",
   "metadata": {},
   "outputs": [],
   "source": [
    "def main(lim = 32):\n",
    "    year, month = list(map(int, input().split()))\n",
    "    dates = date_gen(year, month)\n",
    "    \n",
    "    # now generate the consumption values using normal dist\n",
    "\n",
    "    mean = 2.67 * np.random.rand() + 2.33      # random mean per day between 2.33 - 5\n",
    "    std = 1.3 * np.random.rand() + 0.7    # std between -> 0 - 2.7\n",
    "\n",
    "    consumption = np.random.normal(loc=mean, scale=std, size=(len(dates)))\n",
    "    \n",
    "    gen_requests('yasiru', dates, consumption, lim)"
   ]
  },
  {
   "cell_type": "code",
   "execution_count": 19,
   "id": "4474ff68",
   "metadata": {},
   "outputs": [
    {
     "name": "stdout",
     "output_type": "stream",
     "text": [
      "2021 06\n",
      "http://localhost/hp1/s/e.php?i=150150150&c=4.716477028701034&d=20210601\n",
      "<Response [200]>\n",
      "http://localhost/hp1/s/e.php?i=150150150&c=3.6098478248054358&d=20210602\n",
      "<Response [200]>\n",
      "http://localhost/hp1/s/e.php?i=150150150&c=4.077214345670955&d=20210603\n",
      "<Response [200]>\n",
      "http://localhost/hp1/s/e.php?i=150150150&c=3.452940889653405&d=20210604\n",
      "<Response [200]>\n",
      "http://localhost/hp1/s/e.php?i=150150150&c=3.723443938528597&d=20210605\n",
      "<Response [200]>\n",
      "http://localhost/hp1/s/e.php?i=150150150&c=2.7134383408160625&d=20210606\n",
      "<Response [200]>\n",
      "http://localhost/hp1/s/e.php?i=150150150&c=1.7911983795050679&d=20210607\n",
      "<Response [200]>\n",
      "http://localhost/hp1/s/e.php?i=150150150&c=2.8151875260852552&d=20210608\n",
      "<Response [200]>\n",
      "http://localhost/hp1/s/e.php?i=150150150&c=3.4647256388689986&d=20210609\n",
      "<Response [200]>\n",
      "http://localhost/hp1/s/e.php?i=150150150&c=2.8559808214158666&d=20210610\n",
      "<Response [200]>\n",
      "http://localhost/hp1/s/e.php?i=150150150&c=3.881642680090853&d=20210611\n",
      "<Response [200]>\n",
      "http://localhost/hp1/s/e.php?i=150150150&c=2.2529522922998253&d=20210612\n",
      "<Response [200]>\n",
      "http://localhost/hp1/s/e.php?i=150150150&c=2.7162446751566707&d=20210613\n",
      "<Response [200]>\n",
      "http://localhost/hp1/s/e.php?i=150150150&c=2.663439206412419&d=20210614\n",
      "<Response [200]>\n",
      "http://localhost/hp1/s/e.php?i=150150150&c=2.0866504829298367&d=20210615\n",
      "<Response [200]>\n"
     ]
    }
   ],
   "source": [
    "main(14)"
   ]
  },
  {
   "cell_type": "code",
   "execution_count": null,
   "id": "f36f2199",
   "metadata": {},
   "outputs": [],
   "source": []
  }
 ],
 "metadata": {
  "kernelspec": {
   "display_name": "Python 3",
   "language": "python",
   "name": "python3"
  },
  "language_info": {
   "codemirror_mode": {
    "name": "ipython",
    "version": 3
   },
   "file_extension": ".py",
   "mimetype": "text/x-python",
   "name": "python",
   "nbconvert_exporter": "python",
   "pygments_lexer": "ipython3",
   "version": "3.9.2"
  }
 },
 "nbformat": 4,
 "nbformat_minor": 5
}
